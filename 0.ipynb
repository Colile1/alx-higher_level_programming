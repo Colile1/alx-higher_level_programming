{
 "cells": [
  {
   "cell_type": "code",
   "execution_count": 1,
   "metadata": {},
   "outputs": [
    {
     "data": {
      "text/plain": [
       "2"
      ]
     },
     "execution_count": 1,
     "metadata": {},
     "output_type": "execute_result"
    }
   ],
   "source": [
    "1+1"
   ]
  },
  {
   "cell_type": "code",
   "execution_count": 2,
   "metadata": {},
   "outputs": [
    {
     "name": "stdout",
     "output_type": "stream",
     "text": [
      "[[], [], [], []]\n"
     ]
    }
   ],
   "source": [
    "m1 =[0,0,0,0]\n",
    "size = 4\n",
    "m2 = []\n",
    "for i in range(size):\n",
    "    m2.append(0)\n",
    "    m1[i-1] = []\n",
    "    #for i in range(size):\n",
    "        #m2[i].append(0)\n",
    "print(m1)"
   ]
  },
  {
   "cell_type": "code",
   "execution_count": null,
   "metadata": {},
   "outputs": [
    {
     "ename": "",
     "evalue": "",
     "output_type": "error",
     "traceback": [
      "\u001b[1;31mFailed to start the Kernel. \n",
      "\u001b[1;31mUnable to start Kernel 'Python 3.12.0' due to a timeout waiting for the ports to get used. \n",
      "\u001b[1;31mView Jupyter <a href='command:jupyter.viewOutput'>log</a> for further details."
     ]
    }
   ],
   "source": [
    "#!/usr/bin/python3\n",
    "import ast\n",
    "import os\n",
    "import re\n",
    "\n",
    "class VariableFinder(ast.NodeVisitor):\n",
    "    def __init__(self):\n",
    "        self.variables = {}\n",
    "        self.current_file = \"\"\n",
    "\n",
    "    def visit_Name(self, node):\n",
    "        if isinstance(node.ctx, ast.Store):\n",
    "            if self.current_file not in self.variables:\n",
    "                self.variables[self.current_file] = set()\n",
    "            self.variables[self.current_file].add(node.id)\n",
    "        self.generic_visit(node)\n",
    "\n",
    "def find_variables_in_files():\n",
    "    finder = VariableFinder()\n",
    "    \n",
    "    for root, _, files in os.walk('.'):\n",
    "        for file in files:\n",
    "            if file.endswith('.py'):\n",
    "                file_path = os.path.join(root, file)\n",
    "                try:\n",
    "                    with open(file_path, 'r', encoding='utf-8') as f:\n",
    "                        content = f.read()\n",
    "                    finder.current_file = file_path\n",
    "                    tree = ast.parse(content)\n",
    "                    finder.visit(tree)\n",
    "                except Exception as e:\n",
    "                    print(f\"Error processing {file_path}: {e}\")\n",
    "    \n",
    "    return finder.variables\n",
    "\n",
    "def replace_variable(file_path, old_name, new_name):\n",
    "    with open(file_path, 'r', encoding='utf-8') as f:\n",
    "        content = f.read()\n",
    "    \n",
    "    # Replace variable while preserving case and avoiding partial matches\n",
    "    pattern = r'\\b' + re.escape(old_name) + r'\\b'\n",
    "    modified_content = re.sub(pattern, new_name, content)\n",
    "    \n",
    "    with open(file_path, 'w', encoding='utf-8') as f:\n",
    "        f.write(modified_content)\n",
    "\n",
    "def main():\n",
    "    variables = find_variables_in_files()\n",
    "    \n",
    "    # Display all variables by file\n",
    "    for file_path, vars_set in variables.items():\n",
    "        print(f\"\\nFile: {file_path}\")\n",
    "        for i, var in enumerate(vars_set, 1):\n",
    "            print(f\"{i}. {var}\")\n",
    "    \n",
    "    # Variable replacement interface\n",
    "    while True:\n",
    "        choice = input(\"\\nWould you like to rename a variable? (yes/no): \").lower()\n",
    "        if choice != 'yes':\n",
    "            break\n",
    "            \n",
    "        file_path = input(\"Enter the file path: \")\n",
    "        if file_path not in variables:\n",
    "            print(\"File not found!\")\n",
    "            continue\n",
    "            \n",
    "        old_name = input(\"Enter the variable name to replace: \")\n",
    "        if old_name not in variables[file_path]:\n",
    "            print(\"Variable not found in this file!\")\n",
    "            continue\n",
    "            \n",
    "        new_name = input(\"Enter the new variable name: \")\n",
    "        replace_variable(file_path, old_name, new_name)\n",
    "        print(f\"Variable '{old_name}' replaced with '{new_name}' in {file_path}\")\n",
    "\n",
    "if __name__ == \"__main__\":\n",
    "    main()\n"
   ]
  }
 ],
 "metadata": {
  "kernelspec": {
   "display_name": "Python 3",
   "language": "python",
   "name": "python3"
  },
  "language_info": {
   "codemirror_mode": {
    "name": "ipython",
    "version": 3
   },
   "file_extension": ".py",
   "mimetype": "text/x-python",
   "name": "python",
   "nbconvert_exporter": "python",
   "pygments_lexer": "ipython3",
   "version": "3.12.0"
  }
 },
 "nbformat": 4,
 "nbformat_minor": 2
}
