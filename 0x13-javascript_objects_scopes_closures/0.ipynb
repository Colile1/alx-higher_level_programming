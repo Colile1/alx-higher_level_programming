{
 "cells": [
  {
   "cell_type": "code",
   "execution_count": 1,
   "metadata": {},
   "outputs": [
    {
     "data": {
      "text/plain": [
       "2"
      ]
     },
     "execution_count": 1,
     "metadata": {},
     "output_type": "execute_result"
    }
   ],
   "source": [
    "1+1+1"
   ]
  },
  {
   "cell_type": "code",
   "execution_count": 1,
   "metadata": {},
   "outputs": [
    {
     "name": "stdout",
     "output_type": "stream",
     "text": [
      "Processed: 0-rectangle.js\n"
     ]
    },
    {
     "name": "stdout",
     "output_type": "stream",
     "text": [
      "Processed: 1-rectangle.js\n",
      "Processed: 10-converter.js\n",
      "Processed: 100-map.js\n",
      "Processed: 101-sorted.js\n",
      "Processed: 102-concat.js\n",
      "Processed: 2-rectangle.js\n",
      "Processed: 3-rectangle.js\n",
      "Processed: 4-rectangle.js\n",
      "Processed: 5-square.js\n",
      "Processed: 6-square.js\n",
      "Processed: 7-occurrences.js\n",
      "Processed: 8-esrever.js\n",
      "Processed: 9-logme.js\n"
     ]
    }
   ],
   "source": [
    "#!/usr/bin/python3\n",
    "import os\n",
    "\n",
    "def add_space_to_js_files():\n",
    "    # Get all .js files in current directory\n",
    "    js_files = [f for f in os.listdir('.') if f.endswith('.js')]\n",
    "    \n",
    "    for js_file in js_files:\n",
    "        # Read file content\n",
    "        with open(js_file, 'r') as file:\n",
    "            lines = file.readlines()\n",
    "        \n",
    "        # Add space at the end of each line if not already present\n",
    "        modified_lines = [line.rstrip() + ' \\n' for line in lines]\n",
    "        \n",
    "        # Write back to file\n",
    "        with open(js_file, 'w') as file:\n",
    "            file.writelines(modified_lines)\n",
    "        print(f\"Processed: {js_file}\")\n",
    "\n",
    "if __name__ == \"__main__\":\n",
    "    add_space_to_js_files()\n"
   ]
  },
  {
   "cell_type": "code",
   "execution_count": null,
   "metadata": {},
   "outputs": [],
   "source": [
    "#!/usr/bin/python3\n",
    "from selenium import webdriver\n",
    "from selenium.webdriver.common.by import By\n",
    "from selenium.webdriver.support.ui import WebDriverWait\n",
    "from selenium.webdriver.support import expected_conditions as EC\n",
    "import time\n",
    "\n",
    "def click_all_check_buttons():\n",
    "    # Initialize Chrome driver\n",
    "    driver = webdriver.Chrome()\n",
    "    \n",
    "    # Replace with your target website URL\n",
    "    url = \"YOUR_WEBSITE_URL\"\n",
    "    driver.get(url)\n",
    "    \n",
    "    # Wait for page to load and find all check submission buttons\n",
    "    # Adjust the selector based on the actual button class/id/text\n",
    "    buttons = WebDriverWait(driver, 10).until(\n",
    "        EC.presence_of_all_elements_located((By.CSS_SELECTOR, \"button.check-submission-btn\"))\n",
    "    )\n",
    "    \n",
    "    # Click each button with a small delay\n",
    "    for button in buttons:\n",
    "        button.click()\n",
    "        time.sleep(2)  # Adjust delay as needed\n",
    "    \n",
    "    # Keep browser open for a while to see results\n",
    "    time.sleep(5)\n",
    "    driver.quit()\n",
    "\n",
    "if __name__ == \"__main__\":\n",
    "    click_all_check_buttons()\n"
   ]
  },
  {
   "cell_type": "code",
   "execution_count": 2,
   "metadata": {},
   "outputs": [
    {
     "name": "stdout",
     "output_type": "stream",
     "text": [
      "Cleaned: 0-rectangle.js\n",
      "Cleaned: 1-rectangle.js\n",
      "Cleaned: 10-converter.js\n",
      "Cleaned: 100-map.js\n",
      "Cleaned: 101-sorted.js\n",
      "Cleaned: 102-concat.js\n",
      "Cleaned: 2-rectangle.js\n",
      "Cleaned: 3-rectangle.js\n",
      "Cleaned: 4-rectangle.js\n",
      "Cleaned: 5-square.js\n",
      "Cleaned: 6-square.js\n",
      "Cleaned: 7-occurrences.js\n",
      "Cleaned: 8-esrever.js\n",
      "Cleaned: 9-logme.js\n"
     ]
    }
   ],
   "source": [
    "#!/usr/bin/python3\n",
    "import os\n",
    "\n",
    "def clean_js_files():\n",
    "    # Get all .js files in current directory\n",
    "    js_files = [f for f in os.listdir('.') if f.endswith('.js')]\n",
    "    \n",
    "    for js_file in js_files:\n",
    "        # Read file content\n",
    "        with open(js_file, 'r') as file:\n",
    "            lines = file.readlines()\n",
    "        \n",
    "        # Clean lines: remove trailing spaces and empty lines\n",
    "        cleaned_lines = [line.rstrip() for line in lines if line.strip()]\n",
    "        \n",
    "        # Write back to file with final newline\n",
    "        with open(js_file, 'w') as file:\n",
    "            file.write('\\n'.join(cleaned_lines) + '\\n')\n",
    "        print(f\"Cleaned: {js_file}\")\n",
    "\n",
    "if __name__ == \"__main__\":\n",
    "    clean_js_files()\n"
   ]
  },
  {
   "cell_type": "code",
   "execution_count": 1,
   "metadata": {},
   "outputs": [
    {
     "data": {
      "text/plain": [
       "7"
      ]
     },
     "execution_count": 1,
     "metadata": {},
     "output_type": "execute_result"
    }
   ],
   "source": [
    "1+6\n"
   ]
  }
 ],
 "metadata": {
  "kernelspec": {
   "display_name": "Python 3",
   "language": "python",
   "name": "python3"
  },
  "language_info": {
   "codemirror_mode": {
    "name": "ipython",
    "version": 3
   },
   "file_extension": ".py",
   "mimetype": "text/x-python",
   "name": "python",
   "nbconvert_exporter": "python",
   "pygments_lexer": "ipython3",
   "version": "3.12.0"
  }
 },
 "nbformat": 4,
 "nbformat_minor": 2
}
