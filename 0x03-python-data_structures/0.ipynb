{
 "cells": [
  {
   "cell_type": "code",
   "execution_count": 21,
   "metadata": {},
   "outputs": [],
   "source": [
    "my_list=[5,5,6,22,41,8]"
   ]
  },
  {
   "cell_type": "code",
   "execution_count": 22,
   "metadata": {},
   "outputs": [],
   "source": [
    "def print_reversed_list_integer(my_list=[]):\n",
    "    for i in range(len(my_list)-1, -1, -1):\n",
    "        print(\"{:d}\".format(my_list[i]))\n"
   ]
  },
  {
   "cell_type": "code",
   "execution_count": 23,
   "metadata": {},
   "outputs": [
    {
     "name": "stdout",
     "output_type": "stream",
     "text": [
      "5\n",
      "44\n",
      "13\n",
      "21\n",
      "1\n"
     ]
    }
   ],
   "source": [
    "print_reversed_list_integer = __import__('3-print_reversed_list_integer').print_reversed_list_integer\n",
    "\n",
    "my_list = [1, 21, 13, 44, 5]\n",
    "my_list2 = my_list[::-1]\n",
    "print_reversed_list_integer(my_list2)"
   ]
  },
  {
   "cell_type": "code",
   "execution_count": 25,
   "metadata": {},
   "outputs": [
    {
     "name": "stdout",
     "output_type": "stream",
     "text": [
      "[5, 44, 13, 21, 1]\n"
     ]
    }
   ],
   "source": [
    "my_list = [1, 21, 13, 44, 5]\n",
    "my_list_r = my_list[::-1]\n",
    "print (my_list_r)\n"
   ]
  },
  {
   "cell_type": "code",
   "execution_count": 7,
   "metadata": {},
   "outputs": [],
   "source": [
    "for i in range(len(my_list),-1):\n",
    "        print (i)\n",
    "        "
   ]
  }
 ],
 "metadata": {
  "kernelspec": {
   "display_name": "Python 3",
   "language": "python",
   "name": "python3"
  },
  "language_info": {
   "codemirror_mode": {
    "name": "ipython",
    "version": 3
   },
   "file_extension": ".py",
   "mimetype": "text/x-python",
   "name": "python",
   "nbconvert_exporter": "python",
   "pygments_lexer": "ipython3",
   "version": "3.12.0"
  }
 },
 "nbformat": 4,
 "nbformat_minor": 2
}
