{
 "cells": [
  {
   "cell_type": "code",
   "execution_count": 2,
   "metadata": {},
   "outputs": [
    {
     "name": "stdout",
     "output_type": "stream",
     "text": [
      "matrix must be a matrix of integers/floats\n",
      "div must be a number\n"
     ]
    }
   ],
   "source": [
    "\"\"\" Doc \"\"\"\n",
    "\n",
    "matrix_divided = __import__('2-matrix_divided').matrix_divided\n",
    "\n",
    "try:\n",
    "    matrix = [[3, \"9\"], [12, 3]]\n",
    "    print(matrix_divided(matrix, 2))\n",
    "    print(matrix)\n",
    "except Exception as e:\n",
    "    print(e)\n",
    "\n",
    "try:\n",
    "    matrix = [[3, 9], [12, 3]]\n",
    "    print(matrix_divided(matrix, \"2\"))\n",
    "    print(matrix)\n",
    "except Exception as e:\n",
    "    print(e)"
   ]
  },
  {
   "cell_type": "code",
   "execution_count": 1,
   "metadata": {},
   "outputs": [
    {
     "data": {
      "text/plain": [
       "2"
      ]
     },
     "execution_count": 1,
     "metadata": {},
     "output_type": "execute_result"
    }
   ],
   "source": [
    "1+1"
   ]
  },
  {
   "cell_type": "code",
   "execution_count": 5,
   "metadata": {},
   "outputs": [],
   "source": [
    "matrix_divided = __import__('2-matrix_divided').matrix_divided\n",
    "from matrix_divided import matrix_divided\n",
    "matrix = [[8, 16], [24, 32]]\n",
    "matrix_divided(matrix, 4)\n",
    "#[[2.0, 4.0], [6.0, 8.0]]\n"
   ]
  }
 ],
 "metadata": {
  "kernelspec": {
   "display_name": "Python 3",
   "language": "python",
   "name": "python3"
  },
  "language_info": {
   "codemirror_mode": {
    "name": "ipython",
    "version": 3
   },
   "file_extension": ".py",
   "mimetype": "text/x-python",
   "name": "python",
   "nbconvert_exporter": "python",
   "pygments_lexer": "ipython3",
   "version": "3.12.2"
  }
 },
 "nbformat": 4,
 "nbformat_minor": 2
}
