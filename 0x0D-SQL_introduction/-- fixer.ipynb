{
 "cells": [
  {
   "cell_type": "code",
   "execution_count": 1,
   "metadata": {},
   "outputs": [
    {
     "data": {
      "text/plain": [
       "3"
      ]
     },
     "execution_count": 1,
     "metadata": {},
     "output_type": "execute_result"
    }
   ],
   "source": [
    "1+2\n"
   ]
  },
  {
   "cell_type": "code",
   "execution_count": 2,
   "metadata": {},
   "outputs": [
    {
     "name": "stdout",
     "output_type": "stream",
     "text": [
      "Fixed: 0-list_databases.sql\n",
      "Fixed: 1-create_database_if_missing.sql\n",
      "Fixed: 10-top_score.sql\n",
      "Fixed: 100-move_to_utf8.sql\n",
      "Fixed: 101-avg_temperatures.sql\n",
      "Fixed: 102-top_city.sql\n",
      "Fixed: 103-max_state.sql\n",
      "Fixed: 11-best_score.sql\n",
      "Fixed: 12-no_cheating.sql\n",
      "Fixed: 13-change_class.sql\n",
      "Fixed: 14-average.sql\n",
      "Fixed: 15-groups.sql\n",
      "Fixed: 16-no_link.sql\n",
      "Fixed: 2-remove_database.sql\n",
      "Fixed: 3-list_tables.sql\n",
      "Fixed: 4-first_table.sql\n",
      "Fixed: 5-full_table.sql\n",
      "Fixed: 6-list_values.sql\n",
      "Fixed: 7-insert_value.sql\n",
      "Fixed: 8-count_89.sql\n",
      "Fixed: 9-full_creation.sql\n",
      "Fixed: my_script.sql\n",
      "Fixed: run.sql\n",
      "Fixed: temperatures.sql\n"
     ]
    }
   ],
   "source": [
    "import os\n",
    "\n",
    "def fix_sql_comments(directory):\n",
    "    for file_name in os.listdir(directory):\n",
    "        if file_name.endswith(\".sql\"):\n",
    "            file_path = os.path.join(directory, file_name)\n",
    "            \n",
    "            with open(file_path, 'r') as file:\n",
    "                lines = file.readlines()\n",
    "            \n",
    "            fixed_lines = []\n",
    "            for line in lines:\n",
    "                # Fix comments starting with '--' to ensure they have a space\n",
    "                if line.strip().startswith('--') and not line.strip().startswith('-- '):\n",
    "                    fixed_lines.append(line.replace('--', '-- ', 1))\n",
    "                else:\n",
    "                    fixed_lines.append(line)\n",
    "            \n",
    "            with open(file_path, 'w') as file:\n",
    "                file.writelines(fixed_lines)\n",
    "            print(f\"Fixed: {file_name}\")\n",
    "\n",
    "# Fix all .sql files in the current directory\n",
    "fix_sql_comments(os.getcwd())\n"
   ]
  }
 ],
 "metadata": {
  "kernelspec": {
   "display_name": "Python 3",
   "language": "python",
   "name": "python3"
  },
  "language_info": {
   "codemirror_mode": {
    "name": "ipython",
    "version": 3
   },
   "file_extension": ".py",
   "mimetype": "text/x-python",
   "name": "python",
   "nbconvert_exporter": "python",
   "pygments_lexer": "ipython3",
   "version": "3.12.0"
  }
 },
 "nbformat": 4,
 "nbformat_minor": 2
}
